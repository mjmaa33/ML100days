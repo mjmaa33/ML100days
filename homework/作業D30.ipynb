{
 "cells": [
  {
   "cell_type": "markdown",
   "metadata": {},
   "source": [
    "## 作業:\n",
    "\n",
    "電影院裡通常都是成對情侶一起去看，假設電影院中有100 個人裡面，有 90 名男性和 10 名女性。在這 10 名女性裡，有一半的人有長髮（5 人），另一半有短髮（5人）；在 90 名男性當中，81 個人有短髮，9個人有長髮。\n",
    "\n",
    "![](Q1.png)"
   ]
  },
  {
   "cell_type": "markdown",
   "metadata": {},
   "source": [
    "### Q1: 所以根據這個情況條件下，你會預測照片中的長髮是男性或女性(直覺回答)?"
   ]
  },
  {
   "cell_type": "code",
   "execution_count": 2,
   "metadata": {},
   "outputs": [],
   "source": [
    "#男生"
   ]
  },
  {
   "cell_type": "markdown",
   "metadata": {},
   "source": [
    "### Q2:以上圖資料，計算當你看到長髮時，是女生的機率?"
   ]
  },
  {
   "cell_type": "code",
   "execution_count": 19,
   "metadata": {},
   "outputs": [
    {
     "output_type": "stream",
     "name": "stdout",
     "text": [
      "P(girl|long) = 35.71\nP(boy|long) = 2.17\n"
     ]
    }
   ],
   "source": [
    "\n",
    "def bayes_theorem(p_girl, p_long_girl, p_long_boy):\n",
    "\tp_boy = 1 - p_girl\n",
    "\tp_long = p_long_girl * p_girl + p_long_boy * p_boy\n",
    "\tp_girl_long = (p_long_girl * p_girl) / p_long\n",
    "\treturn p_girl_long\n",
    "\n",
    "p_girl = 0.1\n",
    "p_long_girl = 0.5\n",
    "p_long_boy= 0.1\n",
    "result_g = bayes_theorem(p_girl, p_long_girl, p_long_boy)\n",
    "print('P(girl|long) = {0}'.format(round(result_g * 100,2)))\n",
    "\n",
    "#----\n",
    "def bayes_theorem(p_boy, p_long_girl, p_long_boy):\n",
    "\tp_girl = 1 - p_boy\n",
    "\tp_long = p_long_girl * p_girl + p_long_boy * p_boy\n",
    "\tp_boy_long = (p_long_boy * p_boy) / p_long\n",
    "\treturn p_boy_long\n",
    "\n",
    "p_boy = 0.9\n",
    "p_long_girl = 0.5\n",
    "p_long_boy= 0.1\n",
    "result_g = bayes_theorem(p_girl, p_long_girl, p_long_boy)\n",
    "print('P(boy|long) = {0}'.format(round(result_g * 100,2)))\n"
   ]
  },
  {
   "cell_type": "markdown",
   "metadata": {},
   "source": [
    "### Q3:你的決策因為男生女生比例不同(先驗分配不同)，和投影片的結果相比，決策有沒有改變?"
   ]
  },
  {
   "cell_type": "code",
   "execution_count": 19,
   "metadata": {},
   "outputs": [],
   "source": [
    "\n"
   ]
  },
  {
   "cell_type": "code",
   "execution_count": null,
   "metadata": {},
   "outputs": [],
   "source": []
  }
 ],
 "metadata": {
  "colab": {
   "name": "Day33.YOLO 細節理解 - 網路輸出的後處理_HW.ipynb",
   "provenance": []
  },
  "kernelspec": {
   "display_name": "Python 3",
   "language": "python",
   "name": "python3"
  },
  "language_info": {
   "codemirror_mode": {
    "name": "ipython",
    "version": 3
   },
   "file_extension": ".py",
   "mimetype": "text/x-python",
   "name": "python",
   "nbconvert_exporter": "python",
   "pygments_lexer": "ipython3",
   "version": "3.8.5-final"
  }
 },
 "nbformat": 4,
 "nbformat_minor": 1
}
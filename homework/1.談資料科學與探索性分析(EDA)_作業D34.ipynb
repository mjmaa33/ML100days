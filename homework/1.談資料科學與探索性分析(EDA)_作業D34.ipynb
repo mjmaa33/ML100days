{
 "cells": [
  {
   "cell_type": "markdown",
   "metadata": {},
   "source": [
    "## 作業:\n",
    "今天課程中以一個案例，說明資料分析的流程與探索性分析，是否對於課程中一開始的問題，更有想法了?!    \n",
    "Q1: 哪一個問題不適合用資料科學解決?\n",
    "挑選 Mr./Ms. Right\n",
    "顧客下次會買哪些東西？\n",
    "半導體的良率預測？   \n",
    "Q2: 以你的角度來分析，為什麼這樣的問題，較不適合用資料來解決?    \n",
    "將答案寫在論壇中，大家一起互相討論激盪。   \n",
    "![](作業圖檔.PNG)"
   ]
  },
  {
   "cell_type": "code",
   "execution_count": 1,
   "metadata": {},
   "outputs": [
    {
     "output_type": "execute_result",
     "data": {
      "text/plain": [
       "'\\n你的答案\\n'"
      ]
     },
     "metadata": {},
     "execution_count": 1
    }
   ],
   "source": [
    "'''\n",
    "Q1答案: 挑選 Mr./Ms. Right\n",
    "Q2: 如果顧客是固定採買，分析購買每件商品的時間間隔，可預測下一次會購買的商品\n",
    "半導體的良率是經由多次測試結果分析之數據\n",
    "一般挑選Mr./Ms. Right 是依主觀感覺，無數據可分析，但如果把不同人的特性指標化，訂出符合Mr./Ms. Right的標準值，仍可進行分析\n",
    "'''"
   ]
  },
  {
   "cell_type": "code",
   "execution_count": null,
   "metadata": {},
   "outputs": [],
   "source": []
  }
 ],
 "metadata": {
  "colab": {
   "name": "Day33.YOLO 細節理解 - 網路輸出的後處理_HW.ipynb",
   "provenance": []
  },
  "kernelspec": {
   "display_name": "Python 3",
   "language": "python",
   "name": "python3"
  },
  "language_info": {
   "codemirror_mode": {
    "name": "ipython",
    "version": 3
   },
   "file_extension": ".py",
   "mimetype": "text/x-python",
   "name": "python",
   "nbconvert_exporter": "python",
   "pygments_lexer": "ipython3",
   "version": "3.8.5-final"
  }
 },
 "nbformat": 4,
 "nbformat_minor": 1
}
{
 "cells": [
  {
   "cell_type": "markdown",
   "metadata": {},
   "source": [
    "## 作業:\n",
    "今天學到 AB test中假設檢定的基本概念，最重要的就是如何將抽象情況數值化，\n",
    "並建立自已的 $H_0$ 與 $H_1$。\n",
    "透過作業來好好練習，概念懂了，後面幾堂課再帶大家運用 python 進行運算。\n"
   ]
  },
  {
   "cell_type": "markdown",
   "metadata": {},
   "source": [
    "### Q1: 吃減肥藥能在一個月內瘦超過十公斤，研究人員想推翻第四台廣告業者的說法，請試著寫出 $H_0$ 與 $H_1$ 。\n"
   ]
  },
  {
   "cell_type": "code",
   "execution_count": 2,
   "metadata": {},
   "outputs": [
    {
     "output_type": "stream",
     "name": "stdout",
     "text": [
      "一個月內瘦超過十公斤的機率 5.9048999999999975e-06\n"
     ]
    }
   ],
   "source": [
    "#Q1: 吃減肥藥能在一個月內瘦超過十公斤，研究人員想推翻第四台廣告業者的說法，請試著寫出 $H_0$ 與 $H_1$\n",
    "'''\n",
    " H_0 p<=0.3\n",
    " H_1 p>0.3\n",
    "'''\n",
    "p1 = 0.3**10\n",
    "print(\"一個月內瘦超過十公斤的機率\" , p1)"
   ]
  },
  {
   "cell_type": "markdown",
   "metadata": {},
   "source": [
    "### Q2: 一位速食店店長認為其品牌在市場之佔有率至多為12%，於是該店長進行一個市場調查，一共訪問了3000為消費者，其中有311位表示喜歡該品牌，請試著寫出 $H_0$ 與 $H_1$ 。\n"
   ]
  },
  {
   "cell_type": "code",
   "execution_count": 4,
   "metadata": {},
   "outputs": [
    {
     "output_type": "stream",
     "name": "stdout",
     "text": [
      "0.10366666666666667 小於市占率\n"
     ]
    }
   ],
   "source": [
    "#Q2: 一位速食店店長認為其品牌在市場之佔有率至多為12%，於是該店長進行一個市場調查，一共訪問了3000為消費者，其中有311位表示喜歡該品牌，請試著寫出 $H_0$ 與 $H_1$ 。\n",
    "'''\n",
    "H_0 p<=0.12\n",
    "H_1 p>0.12\n",
    "'''\n",
    "p2=311/3000\n",
    "if p2 > 0.12 :\n",
    "    print(p2,\"大於市占率\")\n",
    "else :\n",
    "    print(p2,\"小於市占率\")"
   ]
  },
  {
   "cell_type": "code",
   "execution_count": null,
   "metadata": {},
   "outputs": [],
   "source": []
  }
 ],
 "metadata": {
  "colab": {
   "name": "Day33.YOLO 細節理解 - 網路輸出的後處理_HW.ipynb",
   "provenance": []
  },
  "kernelspec": {
   "display_name": "Python 3",
   "language": "python",
   "name": "python3"
  },
  "language_info": {
   "codemirror_mode": {
    "name": "ipython",
    "version": 3
   },
   "file_extension": ".py",
   "mimetype": "text/x-python",
   "name": "python",
   "nbconvert_exporter": "python",
   "pygments_lexer": "ipython3",
   "version": "3.8.5-final"
  }
 },
 "nbformat": 4,
 "nbformat_minor": 1
}
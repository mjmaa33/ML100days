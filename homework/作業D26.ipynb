{
 "cells": [
  {
   "attachments": {},
   "cell_type": "markdown",
   "metadata": {},
   "source": [
    "## 作業:\n",
    "今天學到不同統計量之間特性，  \n",
    "試著分析男生女生身高資料，  \n",
    "試著回答下面的問題:  \n",
    "Q1:試著用今天所教的內容，如何描述這兩組資料的樣態?    \n",
    "Q2: 請問男生和女生在平均身高上誰比較高?   \n",
    "Q3:請問第二題的答案和日常生活中觀察的一致嗎? 如果不一致，你覺得原因可能為何?    \n",
    "上述問題透過  python 語法進行運算，\n",
    "並將上述答案填寫在 (google 表單)[https://forms.gle/EDdU2Zfq8zLvDea18]\n",
    "![](作業資料圖檔.PNG)"
   ]
  },
  {
   "cell_type": "code",
   "execution_count": 3,
   "metadata": {
    "colab": {
     "base_uri": "https://localhost:8080/",
     "height": 34
    },
    "colab_type": "code",
    "collapsed": true,
    "executionInfo": {
     "elapsed": 1558,
     "status": "ok",
     "timestamp": 1578021044012,
     "user": {
      "displayName": "Mora chen",
      "photoUrl": "https://lh3.googleusercontent.com/a-/AAuE7mB40f7sDArbZ5_DYq02nNcnLD0Ryaf7AhsASSQeLQ=s64",
      "userId": "03171203089166907199"
     },
     "user_tz": -480
    },
    "id": "yz28_IgkYdBW",
    "outputId": "a12f486c-18b3-4fb5-d06c-f162aebd9444"
   },
   "outputs": [],
   "source": [
    "# library\n",
    "import matplotlib.pyplot as plt\n",
    "import numpy as np\n",
    "import pandas as pd\n",
    "from scipy import stats\n",
    "import math\n",
    "import statistics\n",
    "import seaborn as sns"
   ]
  },
  {
   "cell_type": "code",
   "execution_count": 4,
   "metadata": {},
   "outputs": [],
   "source": [
    "## \n",
    "boys=[164, 176, 169, 169, 165, 175, 159, 151, 144, 160, 183, 165, 156, 170,\n",
    " 164, 173, 165, 163, 177, 171]\n",
    "girls=[169,183,170,168,182,170,173,185,151,156,162,169,162,181,159,154,167,175,170,160]\n"
   ]
  },
  {
   "cell_type": "code",
   "execution_count": 5,
   "metadata": {},
   "outputs": [
    {
     "output_type": "stream",
     "name": "stdout",
     "text": [
      "男孩 20 人 身高平均= 165.95 最高 183 最矮 144\n女孩 20 人 身高平均= 168.3 最高 185 最矮 151\n"
     ]
    }
   ],
   "source": [
    "#Q1:試著用今天所教的內容，如何描述這兩組資料的樣態?\n",
    "#暗示:  分別計算男生和女生的統計量\n",
    "size_boy=np.size(boys)\n",
    "size_girl=np.size(girls)\n",
    "mean_boy=np.mean(boys)\n",
    "mean_girl=np.mean(girls)\n",
    "max_boy=np.max(boys)\n",
    "max_girl=np.max(girls)\n",
    "min_boy=np.min(boys)\n",
    "min_girl=np.min(girls)\n",
    "print(\"男孩\",size_boy,\"人\",\"身高平均=\",mean_boy,\"最高\",max_boy,\"最矮\",min_boy)\n",
    "print(\"女孩\",size_girl,\"人\",\"身高平均=\",mean_girl,\"最高\",max_girl,\"最矮\",min_girl)"
   ]
  },
  {
   "cell_type": "code",
   "execution_count": 11,
   "metadata": {},
   "outputs": [
    {
     "output_type": "stream",
     "name": "stdout",
     "text": [
      "女生平均身高比較高\n"
     ]
    }
   ],
   "source": [
    "#Q2: 請問男生和女生在平均身高上誰比較高? \n",
    "if mean_boy > mean_girl :\n",
    " print(\"男生平均身高比較高\")\n",
    "else :\n",
    " print(\"女生平均身高比較高\")\n"
   ]
  },
  {
   "cell_type": "code",
   "execution_count": 13,
   "metadata": {},
   "outputs": [
    {
     "output_type": "stream",
     "name": "stdout",
     "text": [
      "取樣樣本特性與一般特性不同\n"
     ]
    }
   ],
   "source": [
    "#Q3:請問第二題的答案和日常生活中觀察的一致嗎? 如果不一致，你覺得原因可能為何? \n",
    "print(\"取樣樣本特性與一般特性不同\")\n"
   ]
  },
  {
   "cell_type": "code",
   "execution_count": null,
   "metadata": {},
   "outputs": [],
   "source": []
  }
 ],
 "metadata": {
  "colab": {
   "name": "Day33.YOLO 細節理解 - 網路輸出的後處理_HW.ipynb",
   "provenance": []
  },
  "kernelspec": {
   "display_name": "Python 3",
   "language": "python",
   "name": "python3"
  },
  "language_info": {
   "codemirror_mode": {
    "name": "ipython",
    "version": 3
   },
   "file_extension": ".py",
   "mimetype": "text/x-python",
   "name": "python",
   "nbconvert_exporter": "python",
   "pygments_lexer": "ipython3",
   "version": "3.8.5-final"
  }
 },
 "nbformat": 4,
 "nbformat_minor": 1
}